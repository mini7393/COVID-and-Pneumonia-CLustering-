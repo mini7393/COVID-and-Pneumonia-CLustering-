{
 "cells": [
  {
   "cell_type": "code",
   "execution_count": 1,
   "metadata": {},
   "outputs": [
    {
     "name": "stderr",
     "output_type": "stream",
     "text": [
      "Using TensorFlow backend.\n"
     ]
    }
   ],
   "source": [
    "import cv2 as cv\n",
    "from keras.preprocessing import image\n",
    "from keras.applications.vgg16 import VGG16\n",
    "from keras.applications.vgg16 import preprocess_input\n",
    "import numpy as np\n",
    "from sklearn.cluster import KMeans\n",
    "import os, shutil, glob, os.path\n",
    "import tensorflow as tf\n",
    "from sklearn.metrics import accuracy_score,confusion_matrix,classification_report,roc_curve, auc\n",
    "from sklearn.cluster import Birch\n",
    "import seaborn as sns\n",
    "sns.set()\n",
    "#pip install pillow \n",
    "#pip install opencv-python==3.4.2.16\n",
    "#pip install opencv-contrib-python==3.4.2.16 --user"
   ]
  },
  {
   "cell_type": "code",
   "execution_count": 2,
   "metadata": {},
   "outputs": [],
   "source": [
    "imdir = \"pnuemoniaimages\""
   ]
  },
  {
   "cell_type": "code",
   "execution_count": 3,
   "metadata": {},
   "outputs": [],
   "source": [
    "filelist = glob.glob(os.path.join(imdir, '*.jpeg'))"
   ]
  },
  {
   "cell_type": "code",
   "execution_count": 4,
   "metadata": {},
   "outputs": [],
   "source": [
    "filelist\n",
    "featurelist = []\n",
    "descriptors = []\n",
    "actual_labels = []"
   ]
  },
  {
   "cell_type": "code",
   "execution_count": 5,
   "metadata": {},
   "outputs": [],
   "source": [
    " filelist.sort()"
   ]
  },
  {
   "cell_type": "code",
   "execution_count": 6,
   "metadata": {},
   "outputs": [
    {
     "name": "stdout",
     "output_type": "stream",
     "text": [
      "    Status: 93 / 94\r"
     ]
    }
   ],
   "source": [
    "#SIFT is only available in pip install --user opencv-contrib-python==3.4.2.17\n",
    "WIDTH = 250\n",
    "HEIGHT = 250\n",
    "for i, imagepath in enumerate(filelist):\n",
    "    print(\"    Status: %s / %s\" %(i, len(filelist)), end=\"\\r\")\n",
    "    a = 1 if \"NORMAL\" in imagepath else 0\n",
    "    actual_labels.append(a)\n",
    "    img = cv.imread(imagepath)\n",
    "    d = cv.resize(img, (WIDTH,HEIGHT), interpolation=cv.INTER_CUBIC)\n",
    "    blur = cv.GaussianBlur(img, (5, 5), 0)\n",
    "    gray= cv.cvtColor(blur,cv.COLOR_BGR2GRAY)\n",
    "    sift = cv.xfeatures2d.SIFT_create()\n",
    "    kp = sift.detect(gray,None)\n",
    "    img=cv.drawKeypoints(gray,kp,outImage = None)\n",
    "#     cv.imwrite('sift_keypoints.jpg',img)\n",
    "    kp, des = sift.detectAndCompute(gray,None)\n",
    "    feature = np.array(des)\n",
    "    descriptors.append(feature.flatten())"
   ]
  },
  {
   "cell_type": "code",
   "execution_count": 7,
   "metadata": {},
   "outputs": [
    {
     "data": {
      "text/plain": [
       "[array([ 1.,  4.,  3., ..., 10.,  0.,  0.], dtype=float32),\n",
       " array([2., 0., 0., ..., 4., 3., 2.], dtype=float32),\n",
       " array([0., 0., 1., ..., 0., 0., 3.], dtype=float32),\n",
       " array([1., 0., 0., ..., 0., 0., 0.], dtype=float32),\n",
       " array([ 1.,  0.,  0., ...,  0.,  2., 10.], dtype=float32),\n",
       " array([0., 0., 0., ..., 0., 1., 2.], dtype=float32),\n",
       " array([0., 0., 0., ..., 2., 1., 0.], dtype=float32),\n",
       " array([2., 0., 0., ..., 0., 0., 0.], dtype=float32),\n",
       " array([0., 0., 0., ..., 6., 1., 2.], dtype=float32),\n",
       " array([ 0.,  0.,  0., ..., 16.,  0.,  0.], dtype=float32),\n",
       " array([ 0.,  0.,  0., ..., 16.,  2., 10.], dtype=float32),\n",
       " array([0., 0., 0., ..., 2., 3., 3.], dtype=float32),\n",
       " array([0., 0., 0., ..., 0., 0., 0.], dtype=float32),\n",
       " array([ 1.,  0.,  0., ..., 41.,  0.,  0.], dtype=float32),\n",
       " array([0., 0., 0., ..., 0., 3., 4.], dtype=float32),\n",
       " array([ 0.,  0.,  0., ...,  0.,  0., 16.], dtype=float32),\n",
       " array([1., 0., 0., ..., 2., 1., 2.], dtype=float32),\n",
       " array([ 0.,  0.,  0., ..., 40.,  8.,  2.], dtype=float32),\n",
       " array([  0.,   0.,   0., ...,   0.,   1., 102.], dtype=float32),\n",
       " array([28.,  2.,  0., ...,  1.,  0.,  1.], dtype=float32),\n",
       " array([30.,  0.,  0., ...,  3.,  0.,  0.], dtype=float32),\n",
       " array([0., 0., 0., ..., 0., 0., 0.], dtype=float32),\n",
       " array([0., 0., 0., ..., 0., 1., 2.], dtype=float32),\n",
       " array([ 1.,  0.,  0., ..., 47., 19., 16.], dtype=float32),\n",
       " array([0., 0., 0., ..., 0., 0., 0.], dtype=float32),\n",
       " array([ 0.,  0.,  0., ..., 33.,  8., 13.], dtype=float32),\n",
       " array([1., 0., 0., ..., 1., 2., 7.], dtype=float32),\n",
       " array([ 0.,  0.,  0., ..., 51.,  8.,  8.], dtype=float32),\n",
       " array([0., 0., 0., ..., 2., 0., 0.], dtype=float32),\n",
       " array([0., 0., 0., ..., 6., 0., 0.], dtype=float32),\n",
       " array([0., 0., 0., ..., 0., 0., 0.], dtype=float32),\n",
       " array([ 0.,  0.,  0., ...,  1., 17., 41.], dtype=float32),\n",
       " array([0., 0., 0., ..., 0., 0., 0.], dtype=float32),\n",
       " array([0., 0., 0., ..., 0., 0., 0.], dtype=float32),\n",
       " array([0., 0., 0., ..., 0., 0., 0.], dtype=float32),\n",
       " array([ 0.,  0.,  0., ..., 14.,  0.,  2.], dtype=float32),\n",
       " array([8., 0., 0., ..., 0., 0., 0.], dtype=float32),\n",
       " array([1., 0., 0., ..., 6., 1., 1.], dtype=float32),\n",
       " array([0., 0., 0., ..., 1., 0., 0.], dtype=float32),\n",
       " array([ 0.,  0.,  0., ..., 20.,  0.,  0.], dtype=float32),\n",
       " array([96., 11.,  0., ...,  1.,  0.,  1.], dtype=float32),\n",
       " array([1., 0., 0., ..., 0., 1., 8.], dtype=float32),\n",
       " array([ 0.,  0.,  0., ...,  3.,  1., 12.], dtype=float32),\n",
       " array([2., 0., 0., ..., 0., 0., 0.], dtype=float32),\n",
       " array([ 2.,  4., 18., ...,  1.,  0.,  0.], dtype=float32),\n",
       " array([2., 0., 0., ..., 1., 0., 0.], dtype=float32),\n",
       " array([1., 0., 0., ..., 1., 0., 0.], dtype=float32),\n",
       " array([3., 0., 0., ..., 0., 0., 0.], dtype=float32),\n",
       " array([  2.,  17., 123., ...,   0.,   0.,   0.], dtype=float32),\n",
       " array([2., 0., 0., ..., 0., 0., 0.], dtype=float32),\n",
       " array([3., 0., 0., ..., 0., 0., 0.], dtype=float32),\n",
       " array([2., 0., 0., ..., 1., 0., 0.], dtype=float32),\n",
       " array([ 0.,  4.,  4., ..., 48.,  1.,  3.], dtype=float32),\n",
       " array([ 2.,  2., 29., ...,  0.,  0.,  0.], dtype=float32),\n",
       " array([0., 0., 0., ..., 0., 0., 0.], dtype=float32),\n",
       " array([140.,   7.,   0., ...,   0.,   0.,   0.], dtype=float32),\n",
       " array([ 2., 47., 84., ...,  0.,  0.,  0.], dtype=float32),\n",
       " array([ 4.,  2.,  0., ..., 19., 16.,  6.], dtype=float32),\n",
       " array([ 2.,  0., 16., ...,  0.,  0.,  0.], dtype=float32),\n",
       " array([2., 0., 0., ..., 1., 0., 0.], dtype=float32),\n",
       " array([12.,  1.,  1., ...,  1.,  0.,  0.], dtype=float32),\n",
       " array([1., 0., 9., ..., 0., 0., 1.], dtype=float32),\n",
       " array([1., 0., 0., ..., 0., 0., 0.], dtype=float32),\n",
       " array([27., 10.,  0., ..., 14., 22., 18.], dtype=float32),\n",
       " array([117.,   0.,   0., ...,   0.,   0.,   0.], dtype=float32),\n",
       " array([2., 0., 0., ..., 0., 0., 0.], dtype=float32),\n",
       " array([5., 0., 0., ..., 0., 0., 0.], dtype=float32),\n",
       " array([4., 0., 0., ..., 0., 0., 0.], dtype=float32),\n",
       " array([4., 0., 0., ..., 3., 0., 0.], dtype=float32),\n",
       " array([7., 2., 0., ..., 1., 0., 0.], dtype=float32),\n",
       " array([ 0.,  0.,  0., ..., 27., 39., 61.], dtype=float32),\n",
       " array([0., 0., 0., ..., 1., 1., 1.], dtype=float32),\n",
       " array([39.,  8.,  0., ...,  4.,  0.,  1.], dtype=float32),\n",
       " array([0., 0., 0., ..., 1., 0., 0.], dtype=float32),\n",
       " array([2., 1., 5., ..., 1., 0., 0.], dtype=float32),\n",
       " array([ 3.,  1.,  0., ..., 62., 21., 15.], dtype=float32),\n",
       " array([ 3.,  0.,  0., ..., 44., 24., 12.], dtype=float32),\n",
       " array([ 2.,  1.,  0., ..., 22., 11.,  2.], dtype=float32),\n",
       " array([8., 1., 0., ..., 0., 0., 0.], dtype=float32),\n",
       " array([7., 0., 0., ..., 1., 0., 0.], dtype=float32),\n",
       " array([1., 2., 4., ..., 0., 0., 0.], dtype=float32),\n",
       " array([ 2.,  1., 14., ..., 14.,  1.,  4.], dtype=float32),\n",
       " array([1., 0., 0., ..., 1., 0., 0.], dtype=float32),\n",
       " array([1., 0., 0., ..., 0., 0., 0.], dtype=float32),\n",
       " array([3., 0., 1., ..., 0., 0., 0.], dtype=float32),\n",
       " array([0., 0., 0., ..., 0., 0., 0.], dtype=float32),\n",
       " array([1., 0., 0., ..., 1., 0., 0.], dtype=float32),\n",
       " array([4., 0., 0., ..., 0., 0., 0.], dtype=float32),\n",
       " array([7., 5., 7., ..., 1., 0., 0.], dtype=float32),\n",
       " array([4., 2., 7., ..., 0., 0., 0.], dtype=float32),\n",
       " array([1., 0., 0., ..., 1., 0., 0.], dtype=float32),\n",
       " array([11., 31.,  3., ...,  1.,  0.,  0.], dtype=float32),\n",
       " array([  3., 133., 133., ...,   0.,   0.,   7.], dtype=float32),\n",
       " array([4., 1., 3., ..., 0., 0., 0.], dtype=float32)]"
      ]
     },
     "execution_count": 7,
     "metadata": {},
     "output_type": "execute_result"
    }
   ],
   "source": [
    "# for i in range(len(descriptors)):\n",
    "#     descriptors[i] = descriptors[i].flatten()\n",
    "descriptors"
   ]
  },
  {
   "cell_type": "code",
   "execution_count": 8,
   "metadata": {},
   "outputs": [],
   "source": [
    "#pip install pillow"
   ]
  },
  {
   "cell_type": "code",
   "execution_count": 9,
   "metadata": {},
   "outputs": [],
   "source": [
    "# featurelist[0:5]\n",
    "# len(descriptors[5])\n",
    "# store = [len(x) for x in descriptors]\n",
    "# store\n",
    "max_len = np.max([len(a) for a in descriptors])\n",
    "descriptor = np.asarray([np.pad(a, (0, max_len - len(a)), 'constant', constant_values=0.) for a in descriptors])"
   ]
  },
  {
   "cell_type": "code",
   "execution_count": 10,
   "metadata": {},
   "outputs": [
    {
     "data": {
      "text/plain": [
       "[array([ 1.,  4.,  3., ..., 10.,  0.,  0.], dtype=float32),\n",
       " array([2., 0., 0., ..., 4., 3., 2.], dtype=float32),\n",
       " array([0., 0., 1., ..., 0., 0., 3.], dtype=float32),\n",
       " array([1., 0., 0., ..., 0., 0., 0.], dtype=float32),\n",
       " array([ 1.,  0.,  0., ...,  0.,  2., 10.], dtype=float32)]"
      ]
     },
     "execution_count": 10,
     "metadata": {},
     "output_type": "execute_result"
    }
   ],
   "source": [
    "# featurelist[0][7]\n",
    "descriptors[0:5]"
   ]
  },
  {
   "cell_type": "code",
   "execution_count": 11,
   "metadata": {},
   "outputs": [],
   "source": [
    "kmeans = KMeans(n_clusters=2, random_state=0).fit(np.array(descriptor))"
   ]
  },
  {
   "cell_type": "code",
   "execution_count": 12,
   "metadata": {},
   "outputs": [
    {
     "data": {
      "text/plain": [
       "array([1, 1, 1, 1, 1, 1, 0, 1, 1, 1, 0, 1, 0, 1, 1, 1, 1, 0, 0, 0, 1, 1,\n",
       "       0, 0, 1, 0, 1, 1, 1, 0, 1, 1, 1, 1, 1, 1, 1, 1, 1, 1, 1, 1, 0, 1,\n",
       "       0, 0, 1, 0, 0, 0, 1, 0, 0, 0, 0, 0, 0, 0, 0, 0, 0, 0, 0, 0, 0, 0,\n",
       "       1, 0, 0, 0, 0, 0, 0, 0, 1, 0, 0, 0, 0, 0, 0, 0, 0, 0, 0, 0, 0, 0,\n",
       "       0, 0, 0, 0, 0, 0])"
      ]
     },
     "execution_count": 12,
     "metadata": {},
     "output_type": "execute_result"
    }
   ],
   "source": [
    "kmeans.labels_"
   ]
  },
  {
   "cell_type": "code",
   "execution_count": 13,
   "metadata": {},
   "outputs": [
    {
     "name": "stdout",
     "output_type": "stream",
     "text": [
      "Accuracy scored using k-means clustering:  0.7766\n"
     ]
    }
   ],
   "source": [
    "from sklearn.metrics import accuracy_score \n",
    "pred = kmeans.labels_\n",
    "score = round(accuracy_score(pred, actual_labels), 4)\n",
    "print('Accuracy scored using k-means clustering: ', score)"
   ]
  },
  {
   "cell_type": "code",
   "execution_count": 17,
   "metadata": {},
   "outputs": [
    {
     "name": "stdout",
     "output_type": "stream",
     "text": [
      "Confusion Matrix\n",
      "[[38  2]\n",
      " [19 35]]\n",
      "              precision    recall  f1-score   support\n",
      "\n",
      "           0       0.67      0.95      0.78        40\n",
      "           1       0.95      0.65      0.77        54\n",
      "\n",
      "    accuracy                           0.78        94\n",
      "   macro avg       0.81      0.80      0.78        94\n",
      "weighted avg       0.83      0.78      0.78        94\n",
      "\n"
     ]
    }
   ],
   "source": [
    "conf_mat_complete = confusion_matrix(actual_labels, pred)\n",
    "print(\"Confusion Matrix\")\n",
    "print(conf_mat_complete)\n",
    "cr_complete=classification_report(actual_labels, pred)\n",
    "print(cr_complete)"
   ]
  },
  {
   "cell_type": "code",
   "execution_count": 18,
   "metadata": {},
   "outputs": [],
   "source": [
    "from sklearn.cluster import AgglomerativeClustering\n",
    "import numpy as np\n",
    "import matplotlib.pyplot as plt\n",
    "from scipy.cluster.hierarchy import dendrogram"
   ]
  },
  {
   "cell_type": "code",
   "execution_count": 19,
   "metadata": {},
   "outputs": [
    {
     "name": "stdout",
     "output_type": "stream",
     "text": [
      "Accuracy scored using Agglomerative clustering:  0.7128\n"
     ]
    }
   ],
   "source": [
    "model = AgglomerativeClustering(n_clusters=2,linkage=\"ward\")\n",
    "model.fit(np.array(descriptor))\n",
    "model.labels_\n",
    "x = model.labels_\n",
    "score = round(accuracy_score(x, actual_labels), 4)\n",
    "print('Accuracy scored using Agglomerative clustering: ', score)"
   ]
  },
  {
   "cell_type": "code",
   "execution_count": 20,
   "metadata": {},
   "outputs": [
    {
     "name": "stdout",
     "output_type": "stream",
     "text": [
      "Accuracy scored using complete linkage Agglomerative clustering:  0.4362\n"
     ]
    }
   ],
   "source": [
    "model1 = AgglomerativeClustering(n_clusters=2, compute_full_tree=True,\n",
    "    affinity='euclidean', linkage='complete')\n",
    "model1.fit(np.array(descriptor))\n",
    "model1.labels_\n",
    "x1 = model1.labels_\n",
    "score = round(accuracy_score(x1, actual_labels), 4)\n",
    "print('Accuracy scored using complete linkage Agglomerative clustering: ', score)"
   ]
  },
  {
   "cell_type": "code",
   "execution_count": 21,
   "metadata": {},
   "outputs": [
    {
     "name": "stdout",
     "output_type": "stream",
     "text": [
      "Accuracy scored using single linkage Agglomerative clustering:  0.4362\n"
     ]
    }
   ],
   "source": [
    "model2 = AgglomerativeClustering(n_clusters=2, compute_full_tree=True,\n",
    "    affinity='euclidean', linkage='single')\n",
    "model2.fit(np.array(descriptor))\n",
    "model2.labels_\n",
    "x2 = model2.labels_\n",
    "score = round(accuracy_score(x2, actual_labels), 4)\n",
    "print('Accuracy scored using single linkage Agglomerative clustering: ', score)"
   ]
  },
  {
   "cell_type": "code",
   "execution_count": 22,
   "metadata": {},
   "outputs": [
    {
     "name": "stdout",
     "output_type": "stream",
     "text": [
      "Birch(branching_factor=100, compute_labels=True, copy=True, n_clusters=2,\n",
      "      threshold=0.5)\n",
      "Accuracy scored using birch clustering:  0.7128\n"
     ]
    }
   ],
   "source": [
    "bclust=Birch(branching_factor=100, threshold=.5,n_clusters=2).fit(np.array(descriptor))\n",
    "print(bclust)\n",
    "labels_birch = bclust.predict(np.array(descriptor))\n",
    "labels_birch\n",
    "score = round(accuracy_score(labels_birch, actual_labels), 4)\n",
    "print('Accuracy scored using birch clustering: ', score)"
   ]
  }
 ],
 "metadata": {
  "kernelspec": {
   "display_name": "Python 3",
   "language": "python",
   "name": "python3"
  },
  "language_info": {
   "codemirror_mode": {
    "name": "ipython",
    "version": 3
   },
   "file_extension": ".py",
   "mimetype": "text/x-python",
   "name": "python",
   "nbconvert_exporter": "python",
   "pygments_lexer": "ipython3",
   "version": "3.7.4"
  }
 },
 "nbformat": 4,
 "nbformat_minor": 4
}
